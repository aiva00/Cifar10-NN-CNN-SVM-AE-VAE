{
  "nbformat": 4,
  "nbformat_minor": 0,
  "metadata": {
    "accelerator": "TPU",
    "colab": {
      "name": "KNN-NC-Cifar10.ipynb",
      "provenance": [],
      "collapsed_sections": []
    },
    "kernelspec": {
      "display_name": "Python 3",
      "name": "python3"
    },
    "language_info": {
      "name": "python"
    }
  },
  "cells": [
    {
      "cell_type": "markdown",
      "metadata": {
        "id": "zYUBFaCYYvBm"
      },
      "source": [
        "# **Imports**"
      ]
    },
    {
      "cell_type": "code",
      "metadata": {
        "id": "EVGXl4OlXsWb"
      },
      "source": [
        "import tensorflow as tf\n",
        "import cv2\n",
        "import numpy as np\n",
        "from matplotlib import pyplot as plt\n",
        "from sklearn.neighbors import NearestCentroid\n",
        "from sklearn.neighbors import KNeighborsClassifier\n"
      ],
      "execution_count": 18,
      "outputs": []
    },
    {
      "cell_type": "markdown",
      "metadata": {
        "id": "nMEkBRhlN8Jd"
      },
      "source": [
        "# **Dataset-Samples**"
      ]
    },
    {
      "cell_type": "markdown",
      "metadata": {
        "id": "dh4LsvBB9Ptk"
      },
      "source": [
        "**Κάνουμε load τα δεδομένα της cifar10 και δημιουργούμε 2 tuples, που το ένα περιέχει τα δεδομένα που θέλουμε να κάνουμε train και τα labels τους και το άλλο περιέχει τα δεδομένα που θέλουμε να κάνουμε test μαζί με τα labels τους.**"
      ]
    },
    {
      "cell_type": "code",
      "metadata": {
        "id": "W6ek66_ggaDy"
      },
      "source": [
        "(x_train, y_train), (x_test, y_test) = tf.keras.datasets.cifar10.load_data() "
      ],
      "execution_count": 20,
      "outputs": []
    },
    {
      "cell_type": "markdown",
      "metadata": {
        "id": "1Uv1jzB1Xydm"
      },
      "source": [
        "**Παίρνουμε μία ιδέα για το πως ακριβώς ειναι τα δείγματα μας και τι περιέχουν**"
      ]
    },
    {
      "cell_type": "code",
      "metadata": {
        "colab": {
          "base_uri": "https://localhost:8080/",
          "height": 283
        },
        "id": "yw6D9txRWKDB",
        "outputId": "a32c9149-be62-4a9f-b72e-d599e47b8bc6"
      },
      "source": [
        "plt.imshow(x_train[0])"
      ],
      "execution_count": 21,
      "outputs": [
        {
          "output_type": "execute_result",
          "data": {
            "text/plain": [
              "<matplotlib.image.AxesImage at 0x7f0a9e60c710>"
            ]
          },
          "metadata": {},
          "execution_count": 21
        },
        {
          "output_type": "display_data",
          "data": {
            "image/png": "[encoded data removed]",
            "text/plain": [
              "<Figure size 432x288 with 1 Axes>"
            ]
          },
          "metadata": {
            "needs_background": "light"
          }
        }
      ]
    },
    {
      "cell_type": "markdown",
      "metadata": {
        "id": "kjzk8H2PH8_a"
      },
      "source": [
        "# **OPTIONAL:**\n",
        "\n",
        "**Μετατρέπουμε σε grayscale το training και το test sample για να μειωθούν οι διαστάσεις τους (πχ. το x_train απο (50000,32,32,3) σε (50000,**32**,32) , δηλαδή να αντικαταστήσουμε το RGB που θέλει 3 νούμερα με grayscale) ώστε να έχουμε καλύτερο runtime και ιδανικά παρόμοιες/ίδιες αποδόσεις**"
      ]
    },
    {
      "cell_type": "code",
      "metadata": {
        "id": "ueQgCLfdzQLl",
        "colab": {
          "base_uri": "https://localhost:8080/"
        },
        "outputId": "6c15e6b1-6620-4873-8bd8-7573cd96d0d3"
      },
      "source": [
        "x_train = np.array([cv2.cvtColor(image, cv2.COLOR_BGR2GRAY) for image in x_train])\n",
        "x_test = np.array([cv2.cvtColor(image, cv2.COLOR_BGR2GRAY) for image in x_test])\n",
        "print(x_train.shape)"
      ],
      "execution_count": 22,
      "outputs": [
        {
          "output_type": "stream",
          "name": "stdout",
          "text": [
            "(50000, 32, 32)\n"
          ]
        }
      ]
    },
    {
      "cell_type": "markdown",
      "metadata": {
        "id": "LJ3IFKzlYlzo"
      },
      "source": [
        "**Βλέπουμε πως είναι το grayscale image**"
      ]
    },
    {
      "cell_type": "code",
      "metadata": {
        "colab": {
          "base_uri": "https://localhost:8080/",
          "height": 283
        },
        "id": "wO_J_5m5YJhT",
        "outputId": "4bbacc12-aec5-46a8-8f63-4615f9dbbb7b"
      },
      "source": [
        "plt.imshow(x_train[0], cmap='gray')"
      ],
      "execution_count": 24,
      "outputs": [
        {
          "output_type": "execute_result",
          "data": {
            "text/plain": [
              "<matplotlib.image.AxesImage at 0x7f0a9e244b10>"
            ]
          },
          "metadata": {},
          "execution_count": 24
        },
        {
          "output_type": "display_data",
          "data": {
            "image/png": "[encoded data removed]",
            "text/plain": [
              "<Figure size 432x288 with 1 Axes>"
            ]
          },
          "metadata": {
            "needs_background": "light"
          }
        }
      ]
    },
    {
      "cell_type": "markdown",
      "metadata": {
        "id": "58KGHQUZajp-"
      },
      "source": [
        "**Optional normalize στο dataset , αφού ξέρουμε ότι η φωτεινότητα του κάθε pixel αναπαριστάτε με έναν αριθμό από το 0 μέχρι το 255**"
      ]
    },
    {
      "cell_type": "code",
      "metadata": {
        "id": "MqFHtvYJagSU"
      },
      "source": [
        "x_train  = x_train/255\n",
        "x_test  = x_test/255"
      ],
      "execution_count": null,
      "outputs": []
    },
    {
      "cell_type": "markdown",
      "metadata": {
        "id": "7GvbXQ3lJJ97"
      },
      "source": [
        "# **Dimensions**\n",
        "**Κάνουμε reshape τις διαστάσεις του x_train και x_test ώστε να μπορώ να τα εισάγω στον αλγόριθμο(πχ. το x_train από (50000,32,32,3) σε (50000, 32x32x3) = (50000,3072) ή με grayscale (50000,1024)**"
      ]
    },
    {
      "cell_type": "code",
      "metadata": {
        "id": "a7XaKXxwnH1r",
        "colab": {
          "base_uri": "https://localhost:8080/"
        },
        "outputId": "a1dc4272-10be-4608-b261-e8120ebb9cd7"
      },
      "source": [
        "x_train = np.reshape(x_train, (x_train.shape[0], -1))\n",
        "x_test =np.reshape(x_test, (x_test.shape[0], -1))\n",
        "print(x_train.shape)\n"
      ],
      "execution_count": 10,
      "outputs": [
        {
          "output_type": "stream",
          "name": "stdout",
          "text": [
            "(50000, 1024)\n"
          ]
        }
      ]
    },
    {
      "cell_type": "markdown",
      "metadata": {
        "id": "uJ-liXV_Hgco"
      },
      "source": [
        "# **K-Nearest Neighbor**"
      ]
    },
    {
      "cell_type": "markdown",
      "metadata": {
        "id": "JI8fNxrYHoNA"
      },
      "source": [
        "**Υλοποιούμε το K.N.N. με τις παραμέτρους που θέλουμε να κάνει train αργότερα**\n",
        "\n",
        "\n",
        "*   **number of neighbors = k**\n",
        "*   **weights = distance(ο κάθε neighbor έχει μεγαλύτερη ισχύ με βάση του πόσο κοντά είναι στο δείγμα) ή uniform (δεν παίζει ρόλο η τιμή της απόστασης)**\n",
        "*   **algorithm = \"Auto\" ώστε να διαλέξει αναλόγως του sample size και των dimensions αυτού αυτόματα τον \"καλύτερο\" αλγόριθμο εκ των εξής : KD-Tree, Ball Tree και Brute Force**\n",
        "*   **metric = διαλέγουμε όποια μετρική μας βολεύει για το δείγμα μας με στόχο να μικρύνουμε το runtime ή να πάρουμε ίσως καλύτερα αποτελέσματα**"
      ]
    },
    {
      "cell_type": "code",
      "metadata": {
        "id": "0dMgLNYfhNj9"
      },
      "source": [
        "knn = KNeighborsClassifier(n_neighbors=3, weights='uniform', algorithm='auto', metric=\"euclidean\")"
      ],
      "execution_count": 11,
      "outputs": []
    },
    {
      "cell_type": "markdown",
      "metadata": {
        "id": "3ZrVsQBLKkDg"
      },
      "source": [
        "**Κάνουμε fit τα δεδομένα του trainset στο μοντέλο**"
      ]
    },
    {
      "cell_type": "code",
      "metadata": {
        "id": "0vcVzoWUMYGg",
        "colab": {
          "base_uri": "https://localhost:8080/"
        },
        "outputId": "c3eab014-db73-487e-e56d-5dfb6c43e611"
      },
      "source": [
        "knn.fit(x_train,y_train)"
      ],
      "execution_count": 12,
      "outputs": [
        {
          "output_type": "stream",
          "name": "stderr",
          "text": [
            "/usr/local/lib/python3.7/dist-packages/ipykernel_launcher.py:1: DataConversionWarning: A column-vector y was passed when a 1d array was expected. Please change the shape of y to (n_samples, ), for example using ravel().\n",
            "  \"\"\"Entry point for launching an IPython kernel.\n"
          ]
        },
        {
          "output_type": "execute_result",
          "data": {
            "text/plain": [
              "KNeighborsClassifier(algorithm='auto', leaf_size=30, metric='euclidean',\n",
              "                     metric_params=None, n_jobs=None, n_neighbors=3, p=2,\n",
              "                     weights='uniform')"
            ]
          },
          "metadata": {},
          "execution_count": 12
        }
      ]
    },
    {
      "cell_type": "markdown",
      "metadata": {
        "id": "VuR6bSfaLZPT"
      },
      "source": [
        "**Βρίσκουμε το μέσο accuracy του μοντέλου στο test set**"
      ]
    },
    {
      "cell_type": "code",
      "metadata": {
        "id": "ZrljR5eeJX0s",
        "colab": {
          "base_uri": "https://localhost:8080/"
        },
        "outputId": "cf62c227-cdd5-47ad-9497-6115fae0a936"
      },
      "source": [
        "acc = knn.score(x_test,y_test)\n",
        "print(acc)"
      ],
      "execution_count": 13,
      "outputs": [
        {
          "output_type": "stream",
          "name": "stdout",
          "text": [
            "0.2951\n"
          ]
        }
      ]
    },
    {
      "cell_type": "markdown",
      "metadata": {
        "id": "23IA2w5zNWV4"
      },
      "source": [
        "# **Nearest Centroid**"
      ]
    },
    {
      "cell_type": "markdown",
      "metadata": {
        "id": "unqRV0YXNcDF"
      },
      "source": [
        "**Υλοποιούμε το Nearest Centroid με τις παραμέτρους που θέλουμε**"
      ]
    },
    {
      "cell_type": "code",
      "metadata": {
        "id": "Z5OYR5syMwjj"
      },
      "source": [
        "nearC = NearestCentroid(metric=\"euclidean\",shrink_threshold=None) "
      ],
      "execution_count": 14,
      "outputs": []
    },
    {
      "cell_type": "markdown",
      "metadata": {
        "id": "pVJEkYO6Niw1"
      },
      "source": [
        "**Αντίστοιχα κάνουμε fit**\n",
        "\n",
        "\n"
      ]
    },
    {
      "cell_type": "code",
      "metadata": {
        "colab": {
          "base_uri": "https://localhost:8080/"
        },
        "id": "s6JtXn2MMwU9",
        "outputId": "d3e77e66-3ac9-4b78-f5b1-99fbb8bb078b"
      },
      "source": [
        "nearC.fit(x_train,y_train)"
      ],
      "execution_count": 15,
      "outputs": [
        {
          "output_type": "stream",
          "name": "stderr",
          "text": [
            "/usr/local/lib/python3.7/dist-packages/sklearn/utils/validation.py:760: DataConversionWarning: A column-vector y was passed when a 1d array was expected. Please change the shape of y to (n_samples, ), for example using ravel().\n",
            "  y = column_or_1d(y, warn=True)\n"
          ]
        },
        {
          "output_type": "execute_result",
          "data": {
            "text/plain": [
              "NearestCentroid(metric='euclidean', shrink_threshold=None)"
            ]
          },
          "metadata": {},
          "execution_count": 15
        }
      ]
    },
    {
      "cell_type": "markdown",
      "metadata": {
        "id": "P421EUAJNklA"
      },
      "source": [
        "**Αντίστοιχα βρίσκουμε το μέσο accuracy του μοντέλου στο test set**"
      ]
    },
    {
      "cell_type": "code",
      "metadata": {
        "colab": {
          "base_uri": "https://localhost:8080/"
        },
        "id": "BJOmwzjKMwBT",
        "outputId": "5f9c9983-d1af-455e-d5b4-aa2119e4ebde"
      },
      "source": [
        "acc = nearC.score(x_test,y_test)\n",
        "print(acc)"
      ],
      "execution_count": 16,
      "outputs": [
        {
          "output_type": "stream",
          "name": "stdout",
          "text": [
            "0.2517\n"
          ]
        }
      ]
    }
  ]
}